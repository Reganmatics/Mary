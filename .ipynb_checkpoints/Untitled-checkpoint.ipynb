{
 "cells": [
  {
   "cell_type": "markdown",
   "id": "d6fe187f",
   "metadata": {},
   "source": [
    "## Introductory Python tutorial"
   ]
  },
  {
   "cell_type": "markdown",
   "id": "d4f50915",
   "metadata": {},
   "source": [
    "#### python as a calculator"
   ]
  },
  {
   "cell_type": "code",
   "execution_count": 1,
   "id": "902e2bd8",
   "metadata": {},
   "outputs": [
    {
     "name": "stdout",
     "output_type": "stream",
     "text": [
      "8\n"
     ]
    }
   ],
   "source": [
    "print(5+3)\n",
    "\n",
    "# we expect the result 8 to be displayed below"
   ]
  },
  {
   "cell_type": "code",
   "execution_count": 2,
   "id": "d078ba05",
   "metadata": {},
   "outputs": [
    {
     "name": "stdout",
     "output_type": "stream",
     "text": [
      "6\n"
     ]
    }
   ],
   "source": [
    "print(2*3)\n",
    "\n",
    "# we expect the result 6 to be displayed below"
   ]
  },
  {
   "cell_type": "markdown",
   "id": "d9b3c726",
   "metadata": {},
   "source": [
    "###### explanations\n",
    "\n",
    "- the print() statement enables you to display the result of the statement within the bracket\n",
    "- \\# this starts a line comment\n",
    "- comments tell the python inerpreter not to interprete that line as a python statement but as a description\n",
    "- we have to two types of comments in python\n",
    "    - single line comments indicated by #comment, and \n",
    "    - multiline comments indicated by \"\"\"comment\"\"\""
   ]
  },
  {
   "cell_type": "code",
   "execution_count": null,
   "id": "42b8981f",
   "metadata": {},
   "outputs": [],
   "source": []
  }
 ],
 "metadata": {
  "kernelspec": {
   "display_name": "Python 3 (ipykernel)",
   "language": "python",
   "name": "python3"
  },
  "language_info": {
   "codemirror_mode": {
    "name": "ipython",
    "version": 3
   },
   "file_extension": ".py",
   "mimetype": "text/x-python",
   "name": "python",
   "nbconvert_exporter": "python",
   "pygments_lexer": "ipython3",
   "version": "3.10.12"
  }
 },
 "nbformat": 4,
 "nbformat_minor": 5
}
