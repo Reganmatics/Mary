{
 "cells": [
  {
   "cell_type": "markdown",
   "id": "f8694aaf",
   "metadata": {},
   "source": [
    "## Introductory Python tutorial"
   ]
  },
  {
   "cell_type": "markdown",
   "id": "36a17868",
   "metadata": {},
   "source": [
    "#### python as a calculator"
   ]
  },
  {
   "cell_type": "code",
   "execution_count": 1,
   "id": "3a2a41f0",
   "metadata": {},
   "outputs": [
    {
     "name": "stdout",
     "output_type": "stream",
     "text": [
      "8\n"
     ]
    }
   ],
   "source": [
    "print(5+3)\n",
    "\n",
    "# we expect the result 8 to be displayed below"
   ]
  },
  {
   "cell_type": "code",
   "execution_count": 2,
   "id": "64d3a87d",
   "metadata": {},
   "outputs": [
    {
     "name": "stdout",
     "output_type": "stream",
     "text": [
      "6\n"
     ]
    }
   ],
   "source": [
    "print(2*3)\n",
    "\n",
    "# we expect the result 6 to be displayed below"
   ]
  },
  {
   "cell_type": "markdown",
   "id": "be16ea9b",
   "metadata": {},
   "source": [
    "###### explanations\n",
    "\n",
    "- the print() statement enables you to display the result of the statement within the bracket\n",
    "- \\# this starts a line comment\n",
    "- comments tell the python inerpreter not to interprete that line as a python statement but as a description\n",
    "- we have to two types of comments in python\n",
    "    - single line comments indicated by #comment, and \n",
    "    - multiline comments indicated by \"\"\"comment\"\"\"\n",
    "    \n",
    "    examples are given below"
   ]
  },
  {
   "cell_type": "code",
   "execution_count": 3,
   "id": "b9e57207",
   "metadata": {},
   "outputs": [
    {
     "data": {
      "text/plain": [
       "'\\nmultiline comment\\n\\nin each of these cases, the python interpreter does not interprete the commented text/code\\n'"
      ]
     },
     "execution_count": 3,
     "metadata": {},
     "output_type": "execute_result"
    }
   ],
   "source": [
    "# single line comment\n",
    "\n",
    "\"\"\"\n",
    "multiline comment\n",
    "\n",
    "in each of these cases, the python interpreter does not interprete the commented text/code\n",
    "\"\"\"\n",
    "\n",
    "print()"
   ]
  },
  {
   "cell_type": "code",
   "execution_count": null,
   "id": "9569013e",
   "metadata": {},
   "outputs": [],
   "source": []
  }
 ],
 "metadata": {
  "kernelspec": {
   "display_name": "Python 3 (ipykernel)",
   "language": "python",
   "name": "python3"
  },
  "language_info": {
   "codemirror_mode": {
    "name": "ipython",
    "version": 3
   },
   "file_extension": ".py",
   "mimetype": "text/x-python",
   "name": "python",
   "nbconvert_exporter": "python",
   "pygments_lexer": "ipython3",
   "version": "3.10.12"
  }
 },
 "nbformat": 4,
 "nbformat_minor": 5
}
